{
 "cells": [
  {
   "cell_type": "markdown",
   "metadata": {},
   "source": [
    "# 0. Set up"
   ]
  },
  {
   "cell_type": "code",
   "execution_count": 5,
   "metadata": {},
   "outputs": [],
   "source": [
    "import pandas as pd\n",
    "import spotipy\n",
    "from spotipy.oauth2 import SpotifyClientCredentials\n",
    "import requests\n",
    "import re\n",
    "from tqdm import tqdm\n",
    "import lyricsgenius\n",
    "import time\n",
    "import multiprocessing\n",
    "import concurrent.futures"
   ]
  },
  {
   "cell_type": "code",
   "execution_count": 28,
   "metadata": {},
   "outputs": [],
   "source": [
    "\n",
    "def get_artists_songs(artist):\n",
    "    result = sp.search(q=artist, type='artist', limit=1)\n",
    "    artist_id = result['artists']['items'][0]['id']\n",
    "\n",
    "    song_triples = []\n",
    "    for album in sp.artist_albums(artist_id, album_type='album')['items']:\n",
    "        for track in sp.album_tracks(album['id'])['items']:\n",
    "            song_triples.append((artist, album['name'], track['name']))\n",
    "\n",
    "    return song_triples\n",
    "\n",
    "def get_song_lyrics(song_name, artist_name=None, api_key=\"21c939dbe1fae1e1009de62aa3b171be\"):\n",
    "    \"\"\"\n",
    "    Fetches the lyrics of a song using the Musixmatch API.\n",
    "    \n",
    "    Parameters:\n",
    "    - song_name (str): The name of the song.\n",
    "    - artist_name (str, optional): The name of the artist to refine the search.\n",
    "    - api_key (str): Your Musixmatch API key.\n",
    "    \n",
    "    Returns:\n",
    "    - str: The lyrics of the song or an error message.\n",
    "    \"\"\"\n",
    "    base_url = \"https://api.musixmatch.com/ws/1.1/\"\n",
    "    \n",
    "    # Step 1: Search for the track\n",
    "    search_url = f\"{base_url}track.search\"\n",
    "    params = {\n",
    "        \"q_track\": song_name,\n",
    "        \"q_artist\": artist_name if artist_name else \"\",\n",
    "        \"apikey\": api_key,\n",
    "        \"s_track_rating\": \"desc\",\n",
    "        \"page_size\": 1\n",
    "    }\n",
    "    \n",
    "    response = requests.get(search_url, params=params)\n",
    "    data = response.json()\n",
    "    \n",
    "    try:\n",
    "        track_id = data[\"message\"][\"body\"][\"track_list\"][0][\"track\"][\"track_id\"]\n",
    "    except:\n",
    "        return \"Song not found.\"\n",
    "\n",
    "    # Step 2: Get the lyrics\n",
    "    lyrics_url = f\"{base_url}track.lyrics.get\"\n",
    "    params = {\"track_id\": track_id, \"apikey\": api_key}\n",
    "    \n",
    "    response = requests.get(lyrics_url, params=params)\n",
    "    data = response.json()\n",
    "\n",
    "    try:\n",
    "        lyrics = data[\"message\"][\"body\"][\"lyrics\"][\"lyrics_body\"]\n",
    "        return (re.sub(r'\\n', ' ', lyrics)).lower()\n",
    "    except:\n",
    "        return \"Lyrics not available.\"\n",
    "    \n",
    "def get_song_lyrics_genius(song_name, artist_name):\n",
    "    try:\n",
    "        song = genius.search_song(song_name, artist_name)\n",
    "        if song:\n",
    "            return song.lyrics\n",
    "        else:\n",
    "            return \"Lyrics not found.\"\n",
    "    except:\n",
    "        return f\"An error occurred\"\n",
    "    \n",
    "def clean_lyrics(lyrics):\n",
    "    # Remove text before the first square bracket\n",
    "    lyrics = re.sub(r'^[^\\[]*', '', lyrics)\n",
    "    lyrics = re.sub(r'\\[.*?\\]', '', lyrics)  # Remove text in square brackets\n",
    "    lyrics = re.sub(r'\\n+', ' ', lyrics)  # Replace multiple newlines with a single space\n",
    "    lyrics = re.sub(r'\\s+', ' ', lyrics)  # Replace multiple spaces with a single space\n",
    "    return lyrics.strip().lower()\n",
    "\n",
    "def get_song_info(song_name, artist_name):\n",
    "    # Authenticate and create Spotipy client\n",
    "    client_credentials_manager = SpotifyClientCredentials(client_id=\"your_client_id\", client_secret=\"your_client_secret\")\n",
    "    sp = spotipy.Spotify(client_credentials_manager=client_credentials_manager)\n",
    "\n",
    "    # Search for the song by name and artist\n",
    "    query = f\"track:{song_name} artist:{artist_name}\"\n",
    "    results = sp.search(q=query, type='track', limit=1)\n",
    "    \n",
    "    # If song is found\n",
    "    if results['tracks']['items']:\n",
    "        song = results['tracks']['items'][0]\n",
    "        \n",
    "        # Get the track's release year\n",
    "        year = song['album']['release_date'].split('-')[0]\n",
    "        \n",
    "        return (year)\n",
    "    else:\n",
    "        return (\"Song not found\")\n",
    "\n",
    "def assign_gender(artist):\n",
    "    if artist in ['Justin Bieber', 'Lil Baby', '21 Savage', 'Shawn Mendes', \n",
    "                  'DaBaby', 'The Weeknd', 'Drake', 'Ed Sheeran', 'Young Thug',\n",
    "                  'Future', 'Kendrick Lamar', 'Post Malone', 'Chris Brown']:\n",
    "        return 'M'\n",
    "    elif artist in ['Ariana Grande', 'Rihanna', 'Megan Thee Stallion', 'Dua Lipa', \n",
    "                    'Taylor Swift', 'Beyonce', 'Nicki Minaj']:\n",
    "        return 'F'\n",
    "    elif artist == \"Sam Smith\":\n",
    "        return 'NB'\n",
    "    else:\n",
    "        return 'Group'"
   ]
  },
  {
   "cell_type": "markdown",
   "metadata": {},
   "source": [
    "## discographies"
   ]
  },
  {
   "cell_type": "code",
   "execution_count": 6,
   "metadata": {},
   "outputs": [],
   "source": [
    "client_id = '7226939d4c5e43ab969715d406ad11d9'\n",
    "client_secret = '9e8ee07ae94f49928c65c59ffd4a3dec'\n",
    "auth_manager = SpotifyClientCredentials(client_id=client_id, client_secret=client_secret)\n",
    "\n",
    "sp = spotipy.Spotify(auth_manager=auth_manager)"
   ]
  },
  {
   "cell_type": "code",
   "execution_count": null,
   "metadata": {},
   "outputs": [],
   "source": [
    "artists = pd.read_csv(r\"..\\data\\artists.csv\", index_col=0)\n",
    "artists = artists.query('num_songs_on_billboard > 9 and num_albums > 8').reset_index(drop=True)"
   ]
  },
  {
   "cell_type": "code",
   "execution_count": 5,
   "metadata": {},
   "outputs": [
    {
     "data": {
      "text/html": [
       "<div>\n",
       "<style scoped>\n",
       "    .dataframe tbody tr th:only-of-type {\n",
       "        vertical-align: middle;\n",
       "    }\n",
       "\n",
       "    .dataframe tbody tr th {\n",
       "        vertical-align: top;\n",
       "    }\n",
       "\n",
       "    .dataframe thead th {\n",
       "        text-align: right;\n",
       "    }\n",
       "</style>\n",
       "<table border=\"1\" class=\"dataframe\">\n",
       "  <thead>\n",
       "    <tr style=\"text-align: right;\">\n",
       "      <th></th>\n",
       "      <th>artist</th>\n",
       "      <th>album</th>\n",
       "      <th>song</th>\n",
       "    </tr>\n",
       "  </thead>\n",
       "  <tbody>\n",
       "    <tr>\n",
       "      <th>0</th>\n",
       "      <td>Imagine Dragons</td>\n",
       "      <td>Reflections (From The Vault Of Smoke + Mirrors)</td>\n",
       "      <td>Woke - Demo</td>\n",
       "    </tr>\n",
       "    <tr>\n",
       "      <th>1</th>\n",
       "      <td>Imagine Dragons</td>\n",
       "      <td>Reflections (From The Vault Of Smoke + Mirrors)</td>\n",
       "      <td>The Ghost Intervention - Demo</td>\n",
       "    </tr>\n",
       "  </tbody>\n",
       "</table>\n",
       "</div>"
      ],
      "text/plain": [
       "            artist                                            album  \\\n",
       "0  Imagine Dragons  Reflections (From The Vault Of Smoke + Mirrors)   \n",
       "1  Imagine Dragons  Reflections (From The Vault Of Smoke + Mirrors)   \n",
       "\n",
       "                            song  \n",
       "0                    Woke - Demo  \n",
       "1  The Ghost Intervention - Demo  "
      ]
     },
     "execution_count": 5,
     "metadata": {},
     "output_type": "execute_result"
    }
   ],
   "source": [
    "songs = []\n",
    "for artist in artists['artist']:\n",
    "    songs.extend(get_artists_songs(artist))\n",
    "\n",
    "songs_df = pd.DataFrame(songs, columns=['artist', 'album', 'song'])\n",
    "songs_df.head(2)"
   ]
  },
  {
   "cell_type": "code",
   "execution_count": null,
   "metadata": {},
   "outputs": [],
   "source": [
    "songs_df = artists"
   ]
  },
  {
   "cell_type": "code",
   "execution_count": 6,
   "metadata": {},
   "outputs": [],
   "source": [
    "albums_to_keep = ['$ome $exy $ongs 4 U',\n",
    " '+',\n",
    " '+-=÷× (Tour Collection)',\n",
    " '- (Deluxe)',\n",
    " '1.22.03 Acoustic',\n",
    " '1017 Thug',\n",
    " '11:11',\n",
    " \"1989 (Taylor's Version)\",\n",
    " '2 The Hard Way',\n",
    " '2step (The Remixes)',\n",
    " '4',\n",
    " '5',\n",
    " '=',\n",
    " 'A Girl Like Me',\n",
    " 'A Very Trainor Christmas',\n",
    " 'ANTI',\n",
    " 'AUSTIN',\n",
    " 'Above And Beyoncé Dance Mixes',\n",
    " 'After Hours',\n",
    " 'Anything Goes',\n",
    " 'Autumn Variations',\n",
    " \"B'Day\",\n",
    " 'BEASTMODE 2',\n",
    " 'BETTER THAN YOU',\n",
    " 'BEYONCÉ [Platinum Edition]',\n",
    " 'BLAME IT ON BABY',\n",
    " \"BREEZY - It's Giving Christmas\",\n",
    " 'BUSINESS IS BUSINESS',\n",
    " 'Baby On Baby',\n",
    " 'Baby On Baby 2',\n",
    " 'Baby Talk 5',\n",
    " 'Back On My Baby Jesus Sh!t',\n",
    " 'Beam Me Up Scotty',\n",
    " 'Beautiful Thugger Girls',\n",
    " 'Beauty Behind The Madness',\n",
    " 'Believe',\n",
    " 'Billion Dollar Baby',\n",
    " 'Black Panther The Album Music From And Inspired By',\n",
    " 'Black Panther: Wakanda Forever - Music From and Inspired By',\n",
    " 'Blank Blank',\n",
    " 'Breezy',\n",
    " 'COWBOY CARTER',\n",
    " 'Call And Response: The Remix Album',\n",
    " \"Can't Say I Ain't Country\",\n",
    " 'Care Package',\n",
    " 'Certified Lover Boy',\n",
    " 'Changes',\n",
    " 'Chris Brown (Expanded Edition)',\n",
    " 'Culture',\n",
    " 'Culture II',\n",
    " 'Culture III',\n",
    " 'Currency',\n",
    " 'DAMN.',\n",
    " 'DS2 (Deluxe)',\n",
    " 'Dangerous Woman',\n",
    " 'Dangerously In Love',\n",
    " 'Dark Lane Demo Tapes',\n",
    " 'Dawn FM',\n",
    " 'Dear Evan Hansen (Original Motion Picture Soundtrack)',\n",
    " 'Dig Your Roots',\n",
    " 'Drip Harder',\n",
    " 'Dua Lipa',\n",
    " 'EVOL',\n",
    " 'Echoes Of Silence (Original)',\n",
    " 'Evolve',\n",
    " 'Exclusive (Expanded Edition)',\n",
    " 'F-1 Trillion',\n",
    " 'F.A.M.E. (Expanded Edition)',\n",
    " 'FUTURE',\n",
    " 'Fan of A Fan The Album (Expanded Edition)',\n",
    " \"Fearless (Taylor's Version)\",\n",
    " 'Fever',\n",
    " 'For All The Dogs',\n",
    " 'Fortune (Expanded Edition)',\n",
    " 'Future & Juice WRLD Present... WRLD ON DRUGS',\n",
    " 'Future Hndrxx Presents: The WIZRD',\n",
    " 'Future Nostalgia',\n",
    " 'GNX',\n",
    " 'Gloria',\n",
    " \"God's Work Resurrected\",\n",
    " 'Good Girl Gone Bad',\n",
    " 'Good News',\n",
    " 'Graffiti (Expanded Edition)',\n",
    " 'Green Album',\n",
    " 'HNDRXX',\n",
    " 'HOMECOMING: THE LIVE ALBUM',\n",
    " 'HOW TF IS THIS A MIXTAPE?',\n",
    " 'Hands All Over (Deluxe)',\n",
    " 'Handwritten',\n",
    " 'Harder Than Ever',\n",
    " 'Harder Than Hard',\n",
    " 'Heartbreak on a Full Moon',\n",
    " 'Her Loss',\n",
    " \"Here's To The Good Times\",\n",
    " \"Here's To The Good Times...This Is How We Roll\",\n",
    " 'High Off Life',\n",
    " \"Hollywood's Bleeding\",\n",
    " 'Honestly, Nevermind',\n",
    " 'House Of Balloons (Original)',\n",
    " 'Hurry Up Tomorrow',\n",
    " 'I AM...SASHA FIERCE',\n",
    " 'I Am...World Tour',\n",
    " 'I NEVER LIKED YOU',\n",
    " \"I'm Up\",\n",
    " \"If You're Reading This It's Too Late\",\n",
    " 'Illuminate',\n",
    " 'In The Lonely Hour',\n",
    " 'Indigo (Extended)',\n",
    " 'Issa Album',\n",
    " \"It Won't Be Soon Before Long.\",\n",
    " \"It's Only Me\",\n",
    " 'JEFFERY',\n",
    " 'JORDI (Deluxe)',\n",
    " 'Journals',\n",
    " 'Justice',\n",
    " 'Juug Season',\n",
    " 'KIRK',\n",
    " 'Kiss Land',\n",
    " 'LOOM',\n",
    " 'Lemonade',\n",
    " 'Life Rolls On',\n",
    " 'Loose Change',\n",
    " 'Loud',\n",
    " 'Love Goes',\n",
    " 'Lover',\n",
    " 'MEGAN',\n",
    " 'MEGAN: ACT II',\n",
    " 'MIXTAPE PLUTO',\n",
    " 'MTV Unplugged',\n",
    " 'Make It Hot',\n",
    " 'Mercury - Acts 1 & 2',\n",
    " 'Midnights',\n",
    " 'More Life',\n",
    " 'Mr. Morale & The Big Steppers',\n",
    " 'Music Of The Sun',\n",
    " 'My Dear Melancholy,',\n",
    " 'My Turn',\n",
    " 'My World',\n",
    " 'My World 2.0',\n",
    " 'NOT ALL HEROES WEAR CAPES (Deluxe)',\n",
    " 'Never Say Never - The Remixes',\n",
    " 'Night Visions',\n",
    " 'No Label',\n",
    " 'No Label II',\n",
    " 'No.5 Collaborations Project',\n",
    " 'No.6 Collaborations Project',\n",
    " 'Nothing Was The Same',\n",
    " 'Origins (Deluxe)',\n",
    " 'Overexposed',\n",
    " 'Overly Dedicated',\n",
    " 'Perfect Timing',\n",
    " 'Pink Friday',\n",
    " 'Pink Friday ... Roman Reloaded',\n",
    " 'Pink Friday 2',\n",
    " 'Pluto x Baby Pluto',\n",
    " 'Positions',\n",
    " 'Punk',\n",
    " 'Purple Reign',\n",
    " 'Purpose (Deluxe)',\n",
    " 'Queen',\n",
    " 'Queen Radio: Volume 1',\n",
    " 'RENAISSANCE',\n",
    " 'Radical Optimism',\n",
    " 'Rated R',\n",
    " \"Red (Taylor's Version)\",\n",
    " 'Red Pill Blues (Deluxe)',\n",
    " 'Rich Ni**a Timeline',\n",
    " 'Rich Shooters',\n",
    " 'Royalty (Deluxe Version)',\n",
    " 'SAVAGE MODE II',\n",
    " 'SAVE ME',\n",
    " 'SUPER SLIMEY',\n",
    " 'SUPERFLY (Original Motion Picture Soundtrack)',\n",
    " 'Sam Smith - Live From The Roundhouse',\n",
    " 'Savage Mode',\n",
    " 'Scorpion',\n",
    " 'Section.80',\n",
    " 'Shawn',\n",
    " 'Shawn Mendes',\n",
    " 'Slaughter King',\n",
    " 'Slime & B',\n",
    " 'Slime Language',\n",
    " 'Slime Language 2',\n",
    " 'Slime Season',\n",
    " 'Slime Season 2',\n",
    " 'Slime Season 3',\n",
    " 'Slime Season 4',\n",
    " 'Smoke + Mirrors',\n",
    " 'So Far Gone',\n",
    " 'So Much Fun',\n",
    " 'Something for Thee Hotties',\n",
    " 'Songs About Jane',\n",
    " \"Speak Now (Taylor's Version)\",\n",
    " 'Starboy',\n",
    " 'Stoney (Complete Edition)',\n",
    " 'Street Gossip',\n",
    " 'Suga',\n",
    " 'Sweetener',\n",
    " 'THE TORTURED POETS DEPARTMENT',\n",
    " 'TREAT MYSELF',\n",
    " 'Take Care (Deluxe)',\n",
    " \"Takin' It Back\",\n",
    " 'Talk That Talk',\n",
    " 'Thank Me Later',\n",
    " 'Thank You (Deluxe Version)',\n",
    " 'The Diamond Collection (Deluxe)',\n",
    " 'The Lion King: The Gift',\n",
    " 'The Love Train',\n",
    " 'The Pinkprint',\n",
    " 'The Slaughter Tape',\n",
    " 'The Thrill Of It All',\n",
    " 'The Voice of the Heroes',\n",
    " 'Thursday (Original)',\n",
    " 'Timeless',\n",
    " 'Tina Snow',\n",
    " 'Title (Deluxe)',\n",
    " 'To Pimp A Butterfly',\n",
    " 'Too Hard',\n",
    " 'Traumazine',\n",
    " 'Trilogy',\n",
    " 'Twelve Carat Toothache',\n",
    " 'Unapologetic',\n",
    " 'Under The Mistletoe',\n",
    " 'V',\n",
    " 'Views',\n",
    " \"WE DON'T TRUST YOU\",\n",
    " \"WE STILL DON'T TRUST YOU\",\n",
    " 'WHAM (Extended Version)',\n",
    " 'What A Time To Be Alive',\n",
    " 'Wicked: The Soundtrack',\n",
    " 'Without Warning',\n",
    " 'Wonder',\n",
    " 'X (Expanded Edition)',\n",
    " 'YRN 2 (Young Rich Niggas 2)',\n",
    " 'Young Rich N*ggas',\n",
    " 'Yours Truly',\n",
    " 'Yung Rich Nation',\n",
    " 'american dream',\n",
    " 'beerbongs & bentleys',\n",
    " 'eternal sunshine',\n",
    " 'evermore',\n",
    " 'folklore',\n",
    " 'good kid, m.A.A.d city',\n",
    " 'i am > i was',\n",
    " 'k bye for now (swt live)',\n",
    " 'reputation',\n",
    " 'thank u, next',\n",
    " 'untitled unmastered.',\n",
    " 'x (10th Anniversary Edition)',\n",
    " '÷ (Deluxe)']"
   ]
  },
  {
   "cell_type": "code",
   "execution_count": 7,
   "metadata": {},
   "outputs": [],
   "source": [
    "songs_df = songs_df[songs_df['album'].isin(albums_to_keep)]\n",
    "songs_df.reset_index(inplace=True)"
   ]
  },
  {
   "cell_type": "markdown",
   "metadata": {},
   "source": [
    "## get songs"
   ]
  },
  {
   "cell_type": "code",
   "execution_count": 2,
   "metadata": {},
   "outputs": [
    {
     "data": {
      "text/plain": [
       "Index(['index', 'artist', 'album', 'song', 'lyrics', 'cleaned_lyrics'], dtype='object')"
      ]
     },
     "execution_count": 2,
     "metadata": {},
     "output_type": "execute_result"
    }
   ],
   "source": [
    "songs_df = pd.read_csv(r\"..\\data\\songs.csv\", index_col=0)\n",
    "genius = lyricsgenius.Genius(\"Hj_rkTZ7oZe1mjRL6W2tnwRloCXQMdE0Y-w5ugiX0ZHtiqeBRzUj_j3xM_0qBs7C\")\n",
    "songs_df.columns"
   ]
  },
  {
   "cell_type": "code",
   "execution_count": null,
   "metadata": {},
   "outputs": [],
   "source": [
    "tqdm.pandas()\n",
    "lyrics = []\n",
    "\n",
    "with concurrent.futures.ThreadPoolExecutor() as executor:\n",
    "    for i, row in songs_df.iterrows():\n",
    "        future = executor.submit(get_song_lyrics_genius, row['song'], row['artist'])\n",
    "        try:\n",
    "            l = future.result(timeout=5)\n",
    "        except concurrent.futures.TimeoutError:\n",
    "            print(f\"Skipping '{row['song']}' by {row['artist']} due to timeout.\")\n",
    "            l = None\n",
    "        lyrics.append(l)"
   ]
  },
  {
   "cell_type": "code",
   "execution_count": 31,
   "metadata": {},
   "outputs": [
    {
     "name": "stderr",
     "output_type": "stream",
     "text": [
      "100%|██████████| 4000/4000 [00:00<00:00, 530790.18it/s]\n",
      "100%|██████████| 4000/4000 [00:00<00:00, 6224.15it/s]\n"
     ]
    }
   ],
   "source": [
    "tqdm.pandas()\n",
    "songs_df['lyrics'] = songs_df['lyrics'].progress_apply(lambda x: x if type(x) == str else None)\n",
    "songs_df['cleaned_lyrics'] = songs_df['lyrics'].progress_apply(lambda x: clean_lyrics(x) if x else None)\n"
   ]
  },
  {
   "cell_type": "code",
   "execution_count": 32,
   "metadata": {},
   "outputs": [],
   "source": [
    "songs_df.to_csv(r\"..\\data\\songs.csv\")"
   ]
  },
  {
   "cell_type": "markdown",
   "metadata": {},
   "source": [
    "## more categories"
   ]
  },
  {
   "cell_type": "code",
   "execution_count": 4,
   "metadata": {},
   "outputs": [
    {
     "data": {
      "text/plain": [
       "array(['Imagine Dragons', 'Meghan Trainor', 'Justin Bieber', 'Lil Baby',\n",
       "       '21 Savage', 'Ariana Grande', 'Shawn Mendes', 'Sam Smith',\n",
       "       'Rihanna', 'DaBaby', 'The Weeknd', 'Drake', 'Megan Thee Stallion',\n",
       "       'Ed Sheeran', 'Young Thug', 'Maroon 5', 'Future', 'Kendrick Lamar',\n",
       "       'Dua Lipa', 'Post Malone', 'Taylor Swift', 'Beyonce', 'Migos',\n",
       "       'Chris Brown', 'Florida Georgia Line', 'Nicki Minaj'], dtype=object)"
      ]
     },
     "execution_count": 4,
     "metadata": {},
     "output_type": "execute_result"
    }
   ],
   "source": [
    "songs_df['artist'].unique()"
   ]
  },
  {
   "cell_type": "code",
   "execution_count": 9,
   "metadata": {},
   "outputs": [],
   "source": [
    "client_id = '7226939d4c5e43ab969715d406ad11d9'\n",
    "client_secret = '9e8ee07ae94f49928c65c59ffd4a3dec'\n",
    "auth_manager = SpotifyClientCredentials(client_id=client_id, client_secret=client_secret)\n",
    "\n",
    "sp = spotipy.Spotify(auth_manager=auth_manager)"
   ]
  },
  {
   "cell_type": "code",
   "execution_count": null,
   "metadata": {},
   "outputs": [],
   "source": [
    "\n",
    "    \n",
    "\n",
    "        "
   ]
  },
  {
   "cell_type": "code",
   "execution_count": 24,
   "metadata": {},
   "outputs": [
    {
     "data": {
      "text/plain": [
       "array(['Imagine Dragons', 'Meghan Trainor', 'Justin Bieber', 'Lil Baby',\n",
       "       '21 Savage', 'Ariana Grande', 'Shawn Mendes', 'Sam Smith',\n",
       "       'Rihanna', 'DaBaby', 'The Weeknd', 'Drake', 'Megan Thee Stallion',\n",
       "       'Ed Sheeran', 'Young Thug', 'Maroon 5', 'Future', 'Kendrick Lamar',\n",
       "       'Dua Lipa', 'Post Malone', 'Taylor Swift', 'Beyonce', 'Migos',\n",
       "       'Chris Brown', 'Florida Georgia Line', 'Nicki Minaj'], dtype=object)"
      ]
     },
     "execution_count": 24,
     "metadata": {},
     "output_type": "execute_result"
    }
   ],
   "source": [
    "songs_df['artist'].unique()"
   ]
  },
  {
   "cell_type": "code",
   "execution_count": 25,
   "metadata": {},
   "outputs": [
    {
     "name": "stderr",
     "output_type": "stream",
     "text": [
      "100%|██████████| 4000/4000 [13:04<00:00,  5.10it/s]\n"
     ]
    }
   ],
   "source": [
    "from tqdm import tqdm\n",
    "tqdm.pandas()\n",
    "songs_df['year'] = songs_df.progress_apply(lambda x: get_song_info(x['song'], x['artist']), axis=1)"
   ]
  },
  {
   "cell_type": "code",
   "execution_count": 33,
   "metadata": {},
   "outputs": [
    {
     "data": {
      "text/plain": [
       "Index(['index', 'artist', 'album', 'song', 'lyrics', 'cleaned_lyrics', 'year',\n",
       "       'gender'],\n",
       "      dtype='object')"
      ]
     },
     "execution_count": 33,
     "metadata": {},
     "output_type": "execute_result"
    }
   ],
   "source": [
    "songs_df['gender'] = songs_df['artist'].apply(assign_gender)\n",
    "songs_df.columns"
   ]
  },
  {
   "cell_type": "code",
   "execution_count": 34,
   "metadata": {},
   "outputs": [
    {
     "data": {
      "text/plain": [
       "Index(['album', 'song', 'lyrics', 'cleaned_lyrics', 'Segment', 'WC',\n",
       "       'Analytic', 'Clout', 'Authentic', 'Tone',\n",
       "       ...\n",
       "       'nrc_trust', 'nrc_anticipation', 'nrc_fear', 'nrc_surprise',\n",
       "       'nrc_positive', 'nrc_negative', 'nrc_disgust', 'nrc_anger',\n",
       "       'nrc_sadness', 'nrc_joy'],\n",
       "      dtype='object', length=136)"
      ]
     },
     "execution_count": 34,
     "metadata": {},
     "output_type": "execute_result"
    }
   ],
   "source": [
    "songs_full = pd.read_csv(r\"..\\data\\songs_expanded_25_04_11.csv\", index_col=0)\n",
    "songs_full.columns"
   ]
  },
  {
   "cell_type": "code",
   "execution_count": null,
   "metadata": {},
   "outputs": [
    {
     "data": {
      "text/plain": [
       "True"
      ]
     },
     "execution_count": 40,
     "metadata": {},
     "output_type": "execute_result"
    }
   ],
   "source": [
    "songs_full = songs_full.merge(songs_df[['song', 'year', 'gender']], how='inner', on='song')"
   ]
  },
  {
   "cell_type": "code",
   "execution_count": 42,
   "metadata": {},
   "outputs": [],
   "source": [
    "songs_full.to_csv(r\"..\\data\\songs_expanded_25_04_11.csv\")"
   ]
  }
 ],
 "metadata": {
  "kernelspec": {
   "display_name": "base",
   "language": "python",
   "name": "python3"
  },
  "language_info": {
   "codemirror_mode": {
    "name": "ipython",
    "version": 3
   },
   "file_extension": ".py",
   "mimetype": "text/x-python",
   "name": "python",
   "nbconvert_exporter": "python",
   "pygments_lexer": "ipython3",
   "version": "3.10.12"
  }
 },
 "nbformat": 4,
 "nbformat_minor": 2
}
