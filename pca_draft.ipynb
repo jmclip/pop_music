{
 "cells": [
  {
   "cell_type": "code",
   "execution_count": 2,
   "metadata": {},
   "outputs": [],
   "source": [
    "import numpy as np\n",
    "import pandas as pd\n",
    "\n",
    "from sklearn.decomposition import PCA\n",
    "from sklearn.preprocessing import StandardScaler\n",
    "import matplotlib.pyplot as plt\n",
    "\n",
    "# Sample data (replace with your actual data)\n",
    "pop = pd.read_csv('data/songs_liwc_25_03_13.csv')"
   ]
  },
  {
   "cell_type": "code",
   "execution_count": 3,
   "metadata": {},
   "outputs": [],
   "source": [
    "# processing: currently leaving punctuation alone\n",
    "# https://www.geeksforgeeks.org/removing-stop-words-nltk-python/\n",
    "from gensim.parsing.preprocessing import remove_stopwords\n",
    "from gensim.utils import simple_preprocess\n",
    "\n",
    "pop['lyrics'] = pop['lyrics'].astype(str).apply(remove_stopwords)\n",
    "pop['lyrics-tokenized'] = pop['lyrics'].apply(simple_preprocess)\n"
   ]
  },
  {
   "cell_type": "code",
   "execution_count": 4,
   "metadata": {},
   "outputs": [
    {
     "name": "stdout",
     "output_type": "stream",
     "text": [
      "✅ MPS (Apple GPU) is available!\n"
     ]
    }
   ],
   "source": [
    "import torch\n",
    "\n",
    "if torch.backends.mps.is_available():\n",
    "    print(\"✅ MPS (Apple GPU) is available!\")\n",
    "else:\n",
    "    print(\"❌ MPS not available. Running on CPU.\")"
   ]
  },
  {
   "cell_type": "code",
   "execution_count": null,
   "metadata": {},
   "outputs": [],
   "source": [
    "# emotion detection with distelroberta\n",
    "# https://huggingface.co/j-hartmann/emotion-english-distilroberta-base\n",
    "from transformers import pipeline\n",
    "emotion_model = pipeline(\"text-classification\", \n",
    "                         model=\"j-hartmann/emotion-english-distilroberta-base\",\n",
    "                         truncation = True)\n",
    "\n",
    "pop['emotion'] = pop['lyrics-tokenized'].apply(lambda text: emotion_model(text)[0]['label'])"
   ]
  },
  {
   "cell_type": "code",
   "execution_count": 24,
   "metadata": {},
   "outputs": [],
   "source": [
    "# add NRC\n",
    "#https://www.geeksforgeeks.org/emotion-classification-using-nrc-lexicon-in-python/\n",
    "from nrclex import NRCLex\n",
    "\n",
    "#google ai popup:\n",
    "def analyze_emotion(text):\n",
    "    if isinstance(text, str):\n",
    "        emotion_lexicon = NRCLex(text)\n",
    "        return emotion_lexicon.raw_emotion_scores\n",
    "    else:\n",
    "        return {} \n",
    "\n",
    "#pop = pop.join(pop['emotion_scores'].apply(pd.Series))\n",
    "pop['emotion_scores'] = pop['lyrics'].apply(analyze_emotion)"
   ]
  },
  {
   "cell_type": "code",
   "execution_count": 27,
   "metadata": {},
   "outputs": [],
   "source": [
    "pop = pop.join(pop['emotion_scores'].apply(pd.Series))"
   ]
  },
  {
   "cell_type": "code",
   "execution_count": 28,
   "metadata": {},
   "outputs": [
    {
     "data": {
      "text/plain": [
       "Index(['Unnamed: 0', 'index', 'artist', 'album', 'song', 'lyrics', 'Segment',\n",
       "       'WC', 'Analytic', 'Clout',\n",
       "       ...\n",
       "       'trust', 'anticipation', 'fear', 'surprise', 'positive', 'negative',\n",
       "       'joy', 'sadness', 'anger', 'disgust'],\n",
       "      dtype='object', length=137)"
      ]
     },
     "execution_count": 28,
     "metadata": {},
     "output_type": "execute_result"
    }
   ],
   "source": [
    "pop.columns"
   ]
  },
  {
   "cell_type": "code",
   "execution_count": 29,
   "metadata": {},
   "outputs": [],
   "source": [
    "# work on PCA -- have distilbert, NRC + LIWC\n",
    "\n",
    "pop.to_csv('pop_expanded_25_04_01.csv', index=False)"
   ]
  },
  {
   "cell_type": "code",
   "execution_count": null,
   "metadata": {},
   "outputs": [],
   "source": [
    "# now LIWC, NRC, distilbert all together : time for PCA"
   ]
  }
 ],
 "metadata": {
  "kernelspec": {
   "display_name": "tswift",
   "language": "python",
   "name": "python3"
  },
  "language_info": {
   "codemirror_mode": {
    "name": "ipython",
    "version": 3
   },
   "file_extension": ".py",
   "mimetype": "text/x-python",
   "name": "python",
   "nbconvert_exporter": "python",
   "pygments_lexer": "ipython3",
   "version": "3.9.12"
  }
 },
 "nbformat": 4,
 "nbformat_minor": 2
}
