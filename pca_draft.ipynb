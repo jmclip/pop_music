{
 "cells": [
  {
   "cell_type": "code",
   "execution_count": 1,
   "metadata": {},
   "outputs": [
    {
     "name": "stdout",
     "output_type": "stream",
     "text": [
      "Intel MKL WARNING: Support of Intel(R) Streaming SIMD Extensions 4.2 (Intel(R) SSE4.2) enabled only processors has been deprecated. Intel oneAPI Math Kernel Library 2025.0 will require Intel(R) Advanced Vector Extensions (Intel(R) AVX) instructions.\n",
      "Intel MKL WARNING: Support of Intel(R) Streaming SIMD Extensions 4.2 (Intel(R) SSE4.2) enabled only processors has been deprecated. Intel oneAPI Math Kernel Library 2025.0 will require Intel(R) Advanced Vector Extensions (Intel(R) AVX) instructions.\n"
     ]
    }
   ],
   "source": [
    "import numpy as np\n",
    "import pandas as pd\n",
    "\n",
    "from sklearn.decomposition import PCA\n",
    "from sklearn.preprocessing import StandardScaler\n",
    "import matplotlib.pyplot as plt\n",
    "\n",
    "# Sample data (replace with your actual data)\n",
    "pop = pd.read_csv('data/songs_liwc_25_03_13.csv')"
   ]
  },
  {
   "cell_type": "code",
   "execution_count": 24,
   "metadata": {},
   "outputs": [],
   "source": [
    "# processing: currently leaving punctuation alone\n",
    "# https://www.geeksforgeeks.org/removing-stop-words-nltk-python/\n",
    "from gensim.parsing.preprocessing import remove_stopwords\n",
    "from gensim.utils import simple_preprocess\n",
    "\n",
    "pop['lyrics'] = pop['lyrics'].astype(str).apply(remove_stopwords)\n",
    "pop['lyrics-tokenized'] = pop['lyrics'].apply(simple_preprocess)\n"
   ]
  },
  {
   "cell_type": "code",
   "execution_count": null,
   "metadata": {},
   "outputs": [
    {
     "name": "stderr",
     "output_type": "stream",
     "text": [
      "/opt/anaconda3/envs/tswift/lib/python3.9/site-packages/tqdm/auto.py:21: TqdmWarning: IProgress not found. Please update jupyter and ipywidgets. See https://ipywidgets.readthedocs.io/en/stable/user_install.html\n",
      "  from .autonotebook import tqdm as notebook_tqdm\n"
     ]
    }
   ],
   "source": [
    "# emotion detection with distelroberta\n",
    "# https://huggingface.co/j-hartmann/emotion-english-distilroberta-base\n",
    "from transformers import pipeline\n",
    "emotion_model = pipeline(\"text-classification\", model=\"j-hartmann/emotion-english-distilroberta-base\")\n",
    "\n",
    "pop['emotion'] = pop['lyrics'].apply(lambda text: emotion_model(text)[0]['label'])"
   ]
  },
  {
   "cell_type": "code",
   "execution_count": null,
   "metadata": {},
   "outputs": [],
   "source": [
    "# add NRC\n",
    "#https://www.geeksforgeeks.org/emotion-classification-using-nrc-lexicon-in-python/\n",
    "\n",
    "#google ai popup:\n",
    "def analyze_emotion(text):\n",
    "    if isinstance(text, str):\n",
    "        emotion_lexicon = NRCLex(text)\n",
    "        return emotion_lexicon.raw_emotion_scores\n",
    "    else:\n",
    "        return {} \n",
    "\n",
    "pop['emotion_scores'] = pop['tokenized-lyrics'].apply(analyze_emotion)"
   ]
  },
  {
   "cell_type": "code",
   "execution_count": null,
   "metadata": {},
   "outputs": [],
   "source": [
    "# work on PCA -- have distilbert, NRC + LIWC"
   ]
  }
 ],
 "metadata": {
  "kernelspec": {
   "display_name": "tswift",
   "language": "python",
   "name": "python3"
  },
  "language_info": {
   "codemirror_mode": {
    "name": "ipython",
    "version": 3
   },
   "file_extension": ".py",
   "mimetype": "text/x-python",
   "name": "python",
   "nbconvert_exporter": "python",
   "pygments_lexer": "ipython3",
   "version": "3.9.12"
  }
 },
 "nbformat": 4,
 "nbformat_minor": 2
}
